{
 "cells": [
  {
   "cell_type": "code",
   "execution_count": 381,
   "id": "f5274329",
   "metadata": {},
   "outputs": [],
   "source": [
    "#Importing Libraries\n",
    "import pandas as pd\n",
    "import numpy as np\n",
    "import logging\n",
    "from numpy import random\n",
    "import gensim\n",
    "import nltk\n",
    "from sklearn.model_selection import train_test_split\n",
    "from sklearn.feature_extraction.text import CountVectorizer, TfidfVectorizer\n",
    "from sklearn.metrics import accuracy_score, confusion_matrix\n",
    "import matplotlib.pyplot as plt\n",
    "from nltk.corpus import stopwords\n",
    "import re\n",
    "from bs4 import BeautifulSoup\n",
    "import warnings\n",
    "warnings.filterwarnings(\"ignore\")\n",
    "from nltk.tokenize import word_tokenize\n",
    "from nltk.corpus import stopwords\n",
    "from nltk.stem import SnowballStemmer, WordNetLemmatizer\n",
    "from sklearn.feature_extraction.text import TfidfVectorizer\n",
    "\n",
    "\n",
    "%matplotlib inline"
   ]
  },
  {
   "cell_type": "code",
   "execution_count": 382,
   "id": "f5d49eac",
   "metadata": {},
   "outputs": [],
   "source": [
    "#Importing Libraries\n",
    "import xgboost as xgb\n",
    "from sklearn.ensemble import RandomForestClassifier\n",
    "from sklearn.linear_model import LogisticRegression\n",
    "from sklearn.svm import SVC\n",
    "from sklearn.neighbors import KNeighborsClassifier\n",
    "from sklearn.tree import DecisionTreeClassifier\n",
    "from catboost import CatBoostClassifier\n",
    "from sklearn.ensemble import AdaBoostClassifier\n",
    "from sklearn.metrics import accuracy_score, classification_report, confusion_matrix, recall_score, precision_score"
   ]
  },
  {
   "cell_type": "code",
   "execution_count": 383,
   "id": "f9273658",
   "metadata": {},
   "outputs": [],
   "source": [
    "#Reading dataset\n",
    "df= pd.read_csv('train (1).csv')"
   ]
  },
  {
   "cell_type": "markdown",
   "id": "c4a5b5f5",
   "metadata": {},
   "source": [
    "## Basic EDA"
   ]
  },
  {
   "cell_type": "code",
   "execution_count": 384,
   "id": "36fb3fd4",
   "metadata": {},
   "outputs": [
    {
     "data": {
      "text/html": [
       "<div>\n",
       "<style scoped>\n",
       "    .dataframe tbody tr th:only-of-type {\n",
       "        vertical-align: middle;\n",
       "    }\n",
       "\n",
       "    .dataframe tbody tr th {\n",
       "        vertical-align: top;\n",
       "    }\n",
       "\n",
       "    .dataframe thead th {\n",
       "        text-align: right;\n",
       "    }\n",
       "</style>\n",
       "<table border=\"1\" class=\"dataframe\">\n",
       "  <thead>\n",
       "    <tr style=\"text-align: right;\">\n",
       "      <th></th>\n",
       "      <th>unique ID</th>\n",
       "      <th>query_text</th>\n",
       "      <th>category</th>\n",
       "    </tr>\n",
       "  </thead>\n",
       "  <tbody>\n",
       "    <tr>\n",
       "      <th>0</th>\n",
       "      <td>0</td>\n",
       "      <td>HTTPS://VIMEO.COM/107297364﻿</td>\n",
       "      <td>junk</td>\n",
       "    </tr>\n",
       "    <tr>\n",
       "      <th>1</th>\n",
       "      <td>1</td>\n",
       "      <td>Art and Culture</td>\n",
       "      <td>general</td>\n",
       "    </tr>\n",
       "    <tr>\n",
       "      <th>2</th>\n",
       "      <td>2</td>\n",
       "      <td>Differentiate between chemical and biological ...</td>\n",
       "      <td>academic_servable</td>\n",
       "    </tr>\n",
       "    <tr>\n",
       "      <th>3</th>\n",
       "      <td>3</td>\n",
       "      <td>nth Term of an AP</td>\n",
       "      <td>academic_servable</td>\n",
       "    </tr>\n",
       "    <tr>\n",
       "      <th>4</th>\n",
       "      <td>4</td>\n",
       "      <td>bunmei kaika: aoiza ibunroku saien</td>\n",
       "      <td>junk</td>\n",
       "    </tr>\n",
       "  </tbody>\n",
       "</table>\n",
       "</div>"
      ],
      "text/plain": [
       "   unique ID                                         query_text  \\\n",
       "0          0                       HTTPS://VIMEO.COM/107297364﻿   \n",
       "1          1                                    Art and Culture   \n",
       "2          2  Differentiate between chemical and biological ...   \n",
       "3          3                                  nth Term of an AP   \n",
       "4          4                 bunmei kaika: aoiza ibunroku saien   \n",
       "\n",
       "            category  \n",
       "0               junk  \n",
       "1            general  \n",
       "2  academic_servable  \n",
       "3  academic_servable  \n",
       "4               junk  "
      ]
     },
     "execution_count": 384,
     "metadata": {},
     "output_type": "execute_result"
    }
   ],
   "source": [
    "df.head(5)"
   ]
  },
  {
   "cell_type": "code",
   "execution_count": 385,
   "id": "aaa133d5",
   "metadata": {},
   "outputs": [
    {
     "data": {
      "text/plain": [
       "unique ID     0\n",
       "query_text    0\n",
       "category      0\n",
       "dtype: int64"
      ]
     },
     "execution_count": 385,
     "metadata": {},
     "output_type": "execute_result"
    }
   ],
   "source": [
    "df.isnull().sum()"
   ]
  },
  {
   "cell_type": "code",
   "execution_count": 386,
   "id": "cd3ae862",
   "metadata": {},
   "outputs": [
    {
     "data": {
      "text/plain": [
       "83817"
      ]
     },
     "execution_count": 386,
     "metadata": {},
     "output_type": "execute_result"
    }
   ],
   "source": [
    "total_word_count = 0\n",
    "for text in df['query_text']:\n",
    "    total_word_count += len(text.split(' '))\n",
    "total_word_count"
   ]
  },
  {
   "cell_type": "code",
   "execution_count": 387,
   "id": "96a7ea2a",
   "metadata": {
    "scrolled": true
   },
   "outputs": [
    {
     "data": {
      "image/png": "[encoded data removed]",
      "text/plain": [
       "<Figure size 720x288 with 1 Axes>"
      ]
     },
     "metadata": {
      "needs_background": "light"
     },
     "output_type": "display_data"
    }
   ],
   "source": [
    "import matplotlib.pyplot as plt\n",
    "\n",
    "# Calculate the percentage of each category\n",
    "category_counts = df['category'].value_counts()\n",
    "total_samples = len(df)\n",
    "category_percentages = (category_counts / total_samples) * 100\n",
    "\n",
    "# Plot the percentages\n",
    "plt.figure(figsize=(10, 4))\n",
    "category_percentages.plot(kind='bar')\n",
    "plt.ylabel('Percentage')\n",
    "plt.title('Percentage of Each Category')\n",
    "plt.show()\n"
   ]
  },
  {
   "cell_type": "markdown",
   "id": "6d978822",
   "metadata": {},
   "source": [
    "## Feature Engineering"
   ]
  },
  {
   "cell_type": "code",
   "execution_count": 388,
   "id": "822d09fc",
   "metadata": {},
   "outputs": [],
   "source": [
    "# Apply text preprocessing steps\n",
    "def preprocess_text(text):\n",
    "    text = re.sub(r'http\\S+', '', text)  # Remove URLs\n",
    "    text = re.sub(r'\\d+', '', text)      # Remove numbers\n",
    "    text = re.sub(r'\\W+', ' ', text)     # Remove non-alphanumeric characters\n",
    "    text = text.lower()                  # Convert text to lowercase\n",
    "    text = re.sub(r'[^\\w\\s,]', '', text) # Remove emojis\n",
    "    return text\n"
   ]
  },
  {
   "cell_type": "code",
   "execution_count": 389,
   "id": "96f63ace",
   "metadata": {},
   "outputs": [],
   "source": [
    "# Apply text preprocessing to 'query_text' column\n",
    "df['query_text'] = df['query_text'].apply(preprocess_text)"
   ]
  },
  {
   "cell_type": "code",
   "execution_count": 390,
   "id": "45b1d12d",
   "metadata": {},
   "outputs": [],
   "source": [
    "# Tokenization, stopword removal, and stemming/lemmatization\n",
    "def tokenize_and_process(text):\n",
    "    tokens = word_tokenize(text)\n",
    "    stop_words = set(stopwords.words('english'))\n",
    "    filtered_tokens = [token for token in tokens if token.lower() not in stop_words]\n",
    "    stemmer = SnowballStemmer('english')\n",
    "    stemmed_tokens = [stemmer.stem(token) for token in filtered_tokens]\n",
    "    lemmatizer = WordNetLemmatizer()\n",
    "    lemmatized_tokens = [lemmatizer.lemmatize(token) for token in stemmed_tokens]\n",
    "    return ' '.join(lemmatized_tokens)  # Convert tokens back to text"
   ]
  },
  {
   "cell_type": "code",
   "execution_count": 391,
   "id": "c1420b1e",
   "metadata": {},
   "outputs": [],
   "source": [
    "# Apply tokenization and processing to 'query_text' column\n",
    "df['query_text'] = df['query_text'].apply(tokenize_and_process)"
   ]
  },
  {
   "cell_type": "code",
   "execution_count": 392,
   "id": "e9f56bfe",
   "metadata": {},
   "outputs": [],
   "source": [
    "# Split into features (X) and labels (y)\n",
    "X = df['query_text']\n",
    "y = df['category']"
   ]
  },
  {
   "cell_type": "code",
   "execution_count": 393,
   "id": "1d8a2dd4",
   "metadata": {},
   "outputs": [],
   "source": [
    "# Initialize TfidfVectorizer\n",
    "vectorizer = TfidfVectorizer()\n",
    "\n",
    "# Fit and transform the text data to obtain TF-IDF representation\n",
    "X_tfidf = vectorizer.fit_transform(X)"
   ]
  },
  {
   "cell_type": "code",
   "execution_count": 394,
   "id": "a53482c0",
   "metadata": {},
   "outputs": [],
   "source": [
    "from sklearn.model_selection import train_test_split\n",
    "X_train, X_test, y_train, y_test= train_test_split(X_tfidf, y, test_size=0.30, random_state=42)"
   ]
  },
  {
   "cell_type": "markdown",
   "id": "73a3fcb7",
   "metadata": {},
   "source": [
    "## Doing OverSampling on Data "
   ]
  },
  {
   "cell_type": "code",
   "execution_count": 395,
   "id": "da8af5e3",
   "metadata": {},
   "outputs": [],
   "source": [
    "from imblearn.over_sampling import RandomOverSampler\n",
    "\n",
    "# Initialize RandomOverSampler\n",
    "oversampler = RandomOverSampler(random_state=42)\n",
    "\n",
    "# Fit and apply the oversampling to the training data\n",
    "X_train_balanced, y_train_balanced = oversampler.fit_resample(X_train, y_train)\n"
   ]
  },
  {
   "cell_type": "code",
   "execution_count": 396,
   "id": "60ecc0b9",
   "metadata": {},
   "outputs": [
    {
     "data": {
      "image/png": "[encoded data removed]",
      "text/plain": [
       "<Figure size 576x360 with 1 Axes>"
      ]
     },
     "metadata": {
      "needs_background": "light"
     },
     "output_type": "display_data"
    },
    {
     "data": {
      "image/png": "[encoded data removed]",
      "text/plain": [
       "<Figure size 576x360 with 1 Axes>"
      ]
     },
     "metadata": {
      "needs_background": "light"
     },
     "output_type": "display_data"
    }
   ],
   "source": [
    "import matplotlib.pyplot as plt\n",
    "\n",
    "# Function to plot class distribution\n",
    "def plot_class_distribution(y, title):\n",
    "    class_counts = y.value_counts()\n",
    "    class_labels = class_counts.index\n",
    "    plt.figure(figsize=(8, 5))\n",
    "    plt.bar(class_labels, class_counts, color='skyblue')\n",
    "    plt.xlabel('Class')\n",
    "    plt.ylabel('Frequency')\n",
    "    plt.title(title)\n",
    "    plt.show()\n",
    "\n",
    "# Plot class distribution before oversampling\n",
    "plot_class_distribution(y_train, title='Class Distribution Before Oversampling')\n",
    "\n",
    "# Plot class distribution after oversampling\n",
    "plot_class_distribution(y_train_balanced, title='Class Distribution After Oversampling')\n"
   ]
  },
  {
   "cell_type": "markdown",
   "id": "7e4ad590",
   "metadata": {},
   "source": [
    "## Applying Naive Bayes Classifier"
   ]
  },
  {
   "cell_type": "code",
   "execution_count": 397,
   "id": "b4dd7b37",
   "metadata": {},
   "outputs": [],
   "source": [
    "from sklearn.naive_bayes import MultinomialNB\n",
    "nb_classifier = MultinomialNB()\n",
    "nb_classifier.fit(X_train_balanced, y_train_balanced)\n",
    "y_pred = nb_classifier.predict(X_test)"
   ]
  },
  {
   "cell_type": "code",
   "execution_count": 398,
   "id": "2df7d982",
   "metadata": {},
   "outputs": [
    {
     "name": "stdout",
     "output_type": "stream",
     "text": [
      "Accuracy: 0.5753333333333334\n",
      "Classification Report:\n",
      "                       precision    recall  f1-score   support\n",
      "\n",
      "academic_non_servable       0.49      0.83      0.61       215\n",
      "    academic_servable       0.75      0.43      0.55       519\n",
      "       conversational       0.34      0.73      0.46       153\n",
      "              general       0.67      0.71      0.69       313\n",
      "                 junk       0.74      0.42      0.54       300\n",
      "\n",
      "             accuracy                           0.58      1500\n",
      "            macro avg       0.60      0.62      0.57      1500\n",
      "         weighted avg       0.65      0.58      0.58      1500\n",
      "\n"
     ]
    }
   ],
   "source": [
    "from sklearn.metrics import accuracy_score, classification_report\n",
    "accuracy = accuracy_score(y_test, y_pred)\n",
    "report = classification_report(y_test, y_pred)\n",
    "from sklearn.naive_bayes import MultinomialNB\n",
    "nb_classifier = MultinomialNB()\n",
    "nb_classifier.fit(X_train, y_train)\n",
    "y_pred = nb_classifier.predict(X_test)\n",
    "print(\"Accuracy:\", accuracy)\n",
    "print(\"Classification Report:\")\n",
    "print(report)"
   ]
  },
  {
   "cell_type": "code",
   "execution_count": 399,
   "id": "fd6a53cb",
   "metadata": {},
   "outputs": [],
   "source": [
    "# Encode the target variable for the test set\n",
    "y_test_encoded = label_encoder.transform(y_test)"
   ]
  },
  {
   "cell_type": "markdown",
   "id": "cd6b0eb8",
   "metadata": {},
   "source": [
    "## Applying multiple Ensemble methods"
   ]
  },
  {
   "cell_type": "code",
   "execution_count": 400,
   "id": "a650e55f",
   "metadata": {},
   "outputs": [
    {
     "data": {
      "text/plain": [
       "RandomForestClassifier(bootstrap=False, max_features='log2',\n",
       "                       min_samples_split=10, n_estimators=300)"
      ]
     },
     "execution_count": 400,
     "metadata": {},
     "output_type": "execute_result"
    }
   ],
   "source": [
    "# Initialize the models with the best parameters\n",
    "best_logistic_regression = LogisticRegression(C=10, solver='liblinear')\n",
    "best_svc = SVC(C=1, gamma='scale', kernel='linear')\n",
    "best_kneighbors = KNeighborsClassifier(algorithm='auto', n_neighbors=3, weights='distance')\n",
    "best_decision_tree = DecisionTreeClassifier(criterion='gini', max_depth=None, min_samples_leaf=1, min_samples_split=2)\n",
    "best_random_forest = RandomForestClassifier(bootstrap=False, max_depth=None, max_features='log2', min_samples_leaf=1, min_samples_split=10, n_estimators=300)\n",
    "\n",
    "# Fit the models to your training data\n",
    "best_logistic_regression.fit(X_train_balanced, y_train_balanced)\n",
    "best_svc.fit(X_train_balanced, y_train_balanced)\n",
    "best_kneighbors.fit(X_train_balanced, y_train_balanced)\n",
    "best_decision_tree.fit(X_train_balanced, y_train_balanced)\n",
    "best_random_forest.fit(X_train_balanced, y_train_balanced)\n"
   ]
  },
  {
   "cell_type": "code",
   "execution_count": 401,
   "id": "00b62354",
   "metadata": {},
   "outputs": [
    {
     "name": "stdout",
     "output_type": "stream",
     "text": [
      "Logistic Regression Metrics:\n",
      "Training Accuracy: 0.9770917952883834\n",
      "Training Classification Report:\n",
      "                       precision    recall  f1-score   support\n",
      "\n",
      "academic_non_servable       1.00      0.99      0.99      1231\n",
      "    academic_servable       0.92      0.99      0.96      1231\n",
      "       conversational       0.98      0.98      0.98      1231\n",
      "              general       0.99      0.98      0.99      1231\n",
      "                 junk       1.00      0.95      0.97      1231\n",
      "\n",
      "             accuracy                           0.98      6155\n",
      "            macro avg       0.98      0.98      0.98      6155\n",
      "         weighted avg       0.98      0.98      0.98      6155\n",
      "\n",
      "\n",
      "==================================================\n",
      "\n",
      "Test Accuracy: 0.6746666666666666\n",
      "Test Classification Report:\n",
      "                       precision    recall  f1-score   support\n",
      "\n",
      "academic_non_servable       0.83      0.70      0.76       215\n",
      "    academic_servable       0.62      0.80      0.70       519\n",
      "       conversational       0.62      0.52      0.57       153\n",
      "              general       0.82      0.66      0.73       313\n",
      "                 junk       0.60      0.54      0.57       300\n",
      "\n",
      "             accuracy                           0.67      1500\n",
      "            macro avg       0.70      0.64      0.66      1500\n",
      "         weighted avg       0.69      0.67      0.67      1500\n",
      "\n",
      "\n",
      "SVC Metrics:\n",
      "Training Accuracy: 0.9624695369618197\n",
      "Training Classification Report:\n",
      "                       precision    recall  f1-score   support\n",
      "\n",
      "academic_non_servable       0.99      0.98      0.98      1231\n",
      "    academic_servable       0.90      0.97      0.93      1231\n",
      "       conversational       0.97      0.97      0.97      1231\n",
      "              general       0.98      0.95      0.97      1231\n",
      "                 junk       0.99      0.94      0.96      1231\n",
      "\n",
      "             accuracy                           0.96      6155\n",
      "            macro avg       0.96      0.96      0.96      6155\n",
      "         weighted avg       0.96      0.96      0.96      6155\n",
      "\n",
      "\n",
      "==================================================\n",
      "\n",
      "Test Accuracy: 0.6786666666666666\n",
      "Test Classification Report:\n",
      "                       precision    recall  f1-score   support\n",
      "\n",
      "academic_non_servable       0.86      0.68      0.76       215\n",
      "    academic_servable       0.60      0.85      0.70       519\n",
      "       conversational       0.65      0.49      0.56       153\n",
      "              general       0.83      0.63      0.72       313\n",
      "                 junk       0.66      0.52      0.58       300\n",
      "\n",
      "             accuracy                           0.68      1500\n",
      "            macro avg       0.72      0.64      0.66      1500\n",
      "         weighted avg       0.70      0.68      0.68      1500\n",
      "\n",
      "\n",
      "K-Neighbors Classifier Metrics:\n",
      "Training Accuracy: 0.9822908204711617\n",
      "Training Classification Report:\n",
      "                       precision    recall  f1-score   support\n",
      "\n",
      "academic_non_servable       1.00      0.99      0.99      1231\n",
      "    academic_servable       0.93      1.00      0.96      1231\n",
      "       conversational       0.99      0.98      0.99      1231\n",
      "              general       1.00      0.99      1.00      1231\n",
      "                 junk       1.00      0.96      0.98      1231\n",
      "\n",
      "             accuracy                           0.98      6155\n",
      "            macro avg       0.98      0.98      0.98      6155\n",
      "         weighted avg       0.98      0.98      0.98      6155\n",
      "\n",
      "\n",
      "==================================================\n",
      "\n",
      "Test Accuracy: 0.494\n",
      "Test Classification Report:\n",
      "                       precision    recall  f1-score   support\n",
      "\n",
      "academic_non_servable       0.67      0.38      0.48       215\n",
      "    academic_servable       0.42      0.85      0.56       519\n",
      "       conversational       0.67      0.37      0.48       153\n",
      "              general       0.70      0.37      0.49       313\n",
      "                 junk       0.65      0.15      0.24       300\n",
      "\n",
      "             accuracy                           0.49      1500\n",
      "            macro avg       0.62      0.42      0.45      1500\n",
      "         weighted avg       0.58      0.49      0.46      1500\n",
      "\n",
      "\n",
      "Decision Tree Classifier Metrics:\n",
      "Training Accuracy: 0.9835905767668562\n",
      "Training Classification Report:\n",
      "                       precision    recall  f1-score   support\n",
      "\n",
      "academic_non_servable       1.00      0.99      0.99      1231\n",
      "    academic_servable       1.00      0.96      0.98      1231\n",
      "       conversational       0.99      0.98      0.99      1231\n",
      "              general       1.00      0.99      1.00      1231\n",
      "                 junk       0.93      1.00      0.96      1231\n",
      "\n",
      "             accuracy                           0.98      6155\n",
      "            macro avg       0.98      0.98      0.98      6155\n",
      "         weighted avg       0.98      0.98      0.98      6155\n",
      "\n",
      "\n",
      "==================================================\n",
      "\n",
      "Test Accuracy: 0.6326666666666667\n",
      "Test Classification Report:\n",
      "                       precision    recall  f1-score   support\n",
      "\n",
      "academic_non_servable       0.88      0.73      0.80       215\n",
      "    academic_servable       0.73      0.56      0.64       519\n",
      "       conversational       0.63      0.43      0.51       153\n",
      "              general       0.79      0.63      0.70       313\n",
      "                 junk       0.42      0.79      0.54       300\n",
      "\n",
      "             accuracy                           0.63      1500\n",
      "            macro avg       0.69      0.63      0.64      1500\n",
      "         weighted avg       0.69      0.63      0.64      1500\n",
      "\n",
      "\n",
      "Random Forest Classifier Metrics:\n",
      "Training Accuracy: 0.9831031681559708\n",
      "Training Classification Report:\n",
      "                       precision    recall  f1-score   support\n",
      "\n",
      "academic_non_servable       1.00      0.99      0.99      1231\n",
      "    academic_servable       1.00      0.96      0.98      1231\n",
      "       conversational       0.99      0.98      0.99      1231\n",
      "              general       1.00      0.99      0.99      1231\n",
      "                 junk       0.93      1.00      0.96      1231\n",
      "\n",
      "             accuracy                           0.98      6155\n",
      "            macro avg       0.98      0.98      0.98      6155\n",
      "         weighted avg       0.98      0.98      0.98      6155\n",
      "\n",
      "\n",
      "==================================================\n",
      "\n",
      "Test Accuracy: 0.7053333333333334\n",
      "Test Classification Report:\n",
      "                       precision    recall  f1-score   support\n",
      "\n",
      "academic_non_servable       0.92      0.78      0.84       215\n",
      "    academic_servable       0.74      0.72      0.73       519\n",
      "       conversational       0.66      0.58      0.62       153\n",
      "              general       0.82      0.65      0.72       313\n",
      "                 junk       0.52      0.76      0.62       300\n",
      "\n",
      "             accuracy                           0.71      1500\n",
      "            macro avg       0.73      0.70      0.71      1500\n",
      "         weighted avg       0.73      0.71      0.71      1500\n",
      "\n"
     ]
    }
   ],
   "source": [
    "from sklearn.metrics import accuracy_score, classification_report\n",
    "\n",
    "# Function to print accuracy and classification report\n",
    "def print_metrics(model, X_train_balanced, y_train_balanced, X_test, y_test_encoded):\n",
    "    # Train predictions\n",
    "    train_predictions = model.predict(X_train_balanced)\n",
    "    train_accuracy = accuracy_score(y_train_balanced, train_predictions)\n",
    "    train_report = classification_report(y_train_balanced, train_predictions)\n",
    "\n",
    "    # Test predictions\n",
    "    test_predictions = model.predict(X_test)\n",
    "    test_accuracy = accuracy_score(y_test, test_predictions)\n",
    "    test_report = classification_report(y_test, test_predictions)\n",
    "\n",
    "    print(f\"Training Accuracy: {train_accuracy}\")\n",
    "    print(\"Training Classification Report:\")\n",
    "    print(train_report)\n",
    "\n",
    "    print(\"\\n\" + \"=\"*50 + \"\\n\")\n",
    "\n",
    "    print(f\"Test Accuracy: {test_accuracy}\")\n",
    "    print(\"Test Classification Report:\")\n",
    "    print(test_report)\n",
    "\n",
    "# Print metrics for Logistic Regression\n",
    "print(\"Logistic Regression Metrics:\")\n",
    "print_metrics(best_logistic_regression, X_train_balanced, y_train_balanced, X_test, y_test_encoded)\n",
    "\n",
    "# Print metrics for SVC\n",
    "print(\"\\nSVC Metrics:\")\n",
    "print_metrics(best_svc, X_train_balanced, y_train_balanced, X_test, y_test_encoded)\n",
    "\n",
    "# Print metrics for K-Neighbors Classifier\n",
    "print(\"\\nK-Neighbors Classifier Metrics:\")\n",
    "print_metrics(best_kneighbors, X_train_balanced, y_train_balanced, X_test, y_test_encoded)\n",
    "\n",
    "# Print metrics for Decision Tree Classifier\n",
    "print(\"\\nDecision Tree Classifier Metrics:\")\n",
    "print_metrics(best_decision_tree, X_train_balanced, y_train_balanced, X_test, y_test_encoded)\n",
    "\n",
    "# Print metrics for Random Forest Classifier\n",
    "print(\"\\nRandom Forest Classifier Metrics:\")\n",
    "print_metrics(best_random_forest, X_train_balanced, y_train_balanced, X_test, y_test_encoded)\n"
   ]
  },
  {
   "cell_type": "markdown",
   "id": "83e61e8f",
   "metadata": {},
   "source": [
    "## Creating model pipeline"
   ]
  },
  {
   "cell_type": "code",
   "execution_count": 380,
   "id": "d892c488",
   "metadata": {},
   "outputs": [
    {
     "name": "stdout",
     "output_type": "stream",
     "text": [
      "Accuracy: 0.7046666666666667\n",
      "Classification Report:\n",
      "                       precision    recall  f1-score   support\n",
      "\n",
      "academic_non_servable       0.91      0.77      0.84       215\n",
      "    academic_servable       0.74      0.71      0.73       519\n",
      "       conversational       0.67      0.58      0.62       153\n",
      "              general       0.83      0.64      0.72       313\n",
      "                 junk       0.52      0.77      0.62       300\n",
      "\n",
      "             accuracy                           0.70      1500\n",
      "            macro avg       0.74      0.70      0.71      1500\n",
      "         weighted avg       0.73      0.70      0.71      1500\n",
      "\n"
     ]
    }
   ],
   "source": [
    "def preprocess_text(text):\n",
    "    text = re.sub(r'http\\S+', '', text)  # Remove URLs\n",
    "    text = re.sub(r'\\d+', '', text)      # Remove numbers\n",
    "    text = re.sub(r'\\W+', ' ', text)     # Remove non-alphanumeric characters\n",
    "    text = text.lower()                  # Convert text to lowercase\n",
    "    text = re.sub(r'[^\\w\\s,]', '', text) # Remove emojis\n",
    "    return text\n",
    "\n",
    "# Function for tokenization, stopword removal, and lemmatization\n",
    "def tokenize_and_process(text):\n",
    "    tokens = word_tokenize(text)\n",
    "    stop_words = set(stopwords.words('english'))\n",
    "    filtered_tokens = [token for token in tokens if token.lower() not in stop_words]\n",
    "    stemmer = SnowballStemmer('english')\n",
    "    stemmed_tokens = [stemmer.stem(token) for token in filtered_tokens]\n",
    "    lemmatizer = WordNetLemmatizer()\n",
    "    lemmatized_tokens = [lemmatizer.lemmatize(token) for token in stemmed_tokens]\n",
    "    return ' '.join(lemmatized_tokens)\n",
    "\n",
    "# Read the data\n",
    "df = pd.read_csv('train (1).csv')\n",
    "\n",
    "# Preprocess the text\n",
    "df['query_text'] = df['query_text'].apply(preprocess_text)\n",
    "df['query_text'] = df['query_text'].apply(tokenize_and_process)\n",
    "\n",
    "# Split into features (X) and labels (y)\n",
    "X = df['query_text']\n",
    "y = df['category']\n",
    "\n",
    "# Initialize TfidfVectorizer\n",
    "vectorizer = TfidfVectorizer()\n",
    "\n",
    "# Fit and transform the text data to obtain TF-IDF representation\n",
    "X_tfidf = vectorizer.fit_transform(X)\n",
    "\n",
    "# Split data into train and test sets\n",
    "X_train, X_test, y_train, y_test = train_test_split(X_tfidf, y, test_size=0.30, random_state=42)\n",
    "\n",
    "# Apply RandomOverSampler to address class imbalance\n",
    "oversampler = RandomOverSampler(random_state=42)\n",
    "X_train_balanced, y_train_balanced = oversampler.fit_resample(X_train, y_train)\n",
    "\n",
    "# Initialize and train the Random Forest classifier\n",
    "random_forest_classifier = RandomForestClassifier(bootstrap=False, max_depth=None, max_features='log2', min_samples_leaf=1, min_samples_split=10, n_estimators=300)\n",
    "random_forest_classifier.fit(X_train_balanced, y_train_balanced)\n",
    "\n",
    "# Function to make predictions and print metrics\n",
    "def make_predictions_and_print_metrics(model, X_test, y_test):\n",
    "    y_pred = model.predict(X_test)\n",
    "    accuracy = accuracy_score(y_test, y_pred)\n",
    "    report = classification_report(y_test, y_pred)\n",
    "    print(\"Accuracy:\", accuracy)\n",
    "    print(\"Classification Report:\")\n",
    "    print(report)\n",
    "\n",
    "# Make predictions and print metrics for the Random Forest classifier\n",
    "make_predictions_and_print_metrics(random_forest_classifier, X_test, y_test)\n"
   ]
  },
  {
   "cell_type": "markdown",
   "id": "69338d55",
   "metadata": {},
   "source": [
    "## Testing model on test.csv"
   ]
  },
  {
   "cell_type": "code",
   "execution_count": 350,
   "id": "1ab9bcbe",
   "metadata": {},
   "outputs": [
    {
     "data": {
      "text/plain": [
       "['random_forest_classifier.pkl']"
      ]
     },
     "execution_count": 350,
     "metadata": {},
     "output_type": "execute_result"
    }
   ],
   "source": [
    "import joblib\n",
    "\n",
    "# Save the trained Random Forest classifier\n",
    "joblib.dump(random_forest_classifier, 'random_forest_classifier.pkl')"
   ]
  },
  {
   "cell_type": "code",
   "execution_count": 351,
   "id": "a0e5ad0e",
   "metadata": {},
   "outputs": [],
   "source": [
    "import pandas as pd\n",
    "import joblib\n",
    "\n",
    "# Load the trained Random Forest classifier\n",
    "random_forest_classifier = joblib.load('random_forest_classifier.pkl')\n",
    "\n",
    "# Read the test data\n",
    "test_df = pd.read_csv('test (2).csv')\n",
    "\n",
    "# Preprocess the text in the test data\n",
    "test_df['query_text'] = test_df['query_text'].apply(preprocess_text)\n",
    "test_df['query_text'] = test_df['query_text'].apply(tokenize_and_process)\n",
    "\n",
    "# Transform the preprocessed text using the TfidfVectorizer\n",
    "X_test_tfidf = vectorizer.transform(test_df['query_text'])\n",
    "\n",
    "# Make predictions on the test data\n",
    "predictions = random_forest_classifier.predict(X_test_tfidf)\n",
    "\n",
    "# Create a DataFrame to store the query and prediction results\n",
    "submission_df = pd.DataFrame({'query_text': test_df['query_text'], 'prediction': predictions})\n",
    "\n",
    "# Save the DataFrame to sample_submission.csvfrom sklearn.externals import joblib\n",
    "submission_df.to_csv('sample_submission.csv', index=False)\n"
   ]
  },
  {
   "cell_type": "code",
   "execution_count": null,
   "id": "aa94ae6e",
   "metadata": {},
   "outputs": [],
   "source": []
  }
 ],
 "metadata": {
  "kernelspec": {
   "display_name": "Python 3 (ipykernel)",
   "language": "python",
   "name": "python3"
  },
  "language_info": {
   "codemirror_mode": {
    "name": "ipython",
    "version": 3
   },
   "file_extension": ".py",
   "mimetype": "text/x-python",
   "name": "python",
   "nbconvert_exporter": "python",
   "pygments_lexer": "ipython3",
   "version": "3.11.4"
  }
 },
 "nbformat": 4,
 "nbformat_minor": 5
}
